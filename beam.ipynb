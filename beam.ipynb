{
 "cells": [
  {
   "cell_type": "code",
   "execution_count": 1,
   "metadata": {},
   "outputs": [],
   "source": [
    "import numpy as np"
   ]
  },
  {
   "cell_type": "code",
   "execution_count": 34,
   "metadata": {},
   "outputs": [],
   "source": [
    "class Node:\n",
    "    def __init__(self, value, prob):\n",
    "        self.value = value\n",
    "        self.prob = prob\n",
    "        self.children = []\n",
    "\n",
    "    def add_child(self, child):\n",
    "        self.children.append((child))"
   ]
  },
  {
   "cell_type": "code",
   "execution_count": 261,
   "metadata": {},
   "outputs": [],
   "source": [
    "root = Node('A', 1.0)\n",
    "B = Node('B', 0.5)\n",
    "C = Node('C', 0.2)\n",
    "D = Node('D', 0.3)\n",
    "\n",
    "root.add_child(B)\n",
    "root.add_child(C)\n",
    "root.add_child(D)\n",
    "\n",
    "B.add_child(Node('E', 0.15))\n",
    "B.add_child(Node('F', 0.08))\n",
    "B.add_child(Node('G', 0.06))\n",
    "C.add_child(Node('H', 0.07))\n",
    "C.add_child(Node('I', 0.05))\n",
    "C.add_child(Node('J', 0.40))\n",
    "D.add_child(Node('K', 0.02))\n",
    "D.add_child(Node('L', 0.16))\n",
    "D.add_child(Node('M', 0.10))\n",
    "\n"
   ]
  },
  {
   "cell_type": "code",
   "execution_count": 97,
   "metadata": {},
   "outputs": [],
   "source": [
    "def print_tree(node, depth=0):\n",
    "    indent = \"  \" * depth\n",
    "    print(f\"{indent}- {node.value} (Prob: {node.prob})\")\n",
    "    for child in node.children:\n",
    "        print_tree(child, depth + 1)"
   ]
  },
  {
   "cell_type": "code",
   "execution_count": null,
   "metadata": {},
   "outputs": [],
   "source": [
    "def stochastic_beam_search(root, k, steps, temperature=1):\n",
    "    beam = [(root, 0.0, [root.value])]  # (node, score, sequence)\n",
    "\n",
    "    for _ in range(steps):\n",
    "        expansions = []\n",
    "        for node,score,sequence in beam:\n",
    "            if node == None:\n",
    "                continue\n",
    "\n",
    "            children = node.children\n",
    "            # phi_s'\n",
    "            g = [np.log(node.prob) + np.log(i.prob) for i in children]\n",
    "            # gumbel = -np.log(-np.log(np.random.uniform(size = len(children))))\n",
    "            # G_phi_s'\n",
    "            gumbel_score = np.array(g)/temperature + np.random.gumbel(size=len(children))\n",
    "            Z = max(gumbel_score)\n",
    "            # ~G_phi_s'\n",
    "            gumbel_score = -np.log(np.exp(-score)-np.exp(-Z)+np.exp(-gumbel_score))\n",
    "            expansions += [(c, s, sequence+[c.value]) for c,s in zip(children, gumbel_score)]\n",
    "            \n",
    "        ordered_expansions = sorted(expansions, key=lambda x: x[1], reverse=True)\n",
    "        beam = ordered_expansions[:k]\n",
    "\n",
    "    return beam"
   ]
  },
  {
   "cell_type": "code",
   "execution_count": 262,
   "metadata": {},
   "outputs": [
    {
     "name": "stdout",
     "output_type": "stream",
     "text": [
      "- A (Prob: 1.0)\n",
      "  - B (Prob: 0.5)\n",
      "    - E (Prob: 0.15)\n",
      "    - F (Prob: 0.08)\n",
      "    - G (Prob: 0.06)\n",
      "  - C (Prob: 0.2)\n",
      "    - H (Prob: 0.07)\n",
      "    - I (Prob: 0.05)\n",
      "    - J (Prob: 0.4)\n",
      "  - D (Prob: 0.3)\n",
      "    - K (Prob: 0.02)\n",
      "    - L (Prob: 0.16)\n",
      "    - M (Prob: 0.1)\n"
     ]
    }
   ],
   "source": [
    "print_tree(root)"
   ]
  },
  {
   "cell_type": "code",
   "execution_count": 264,
   "metadata": {},
   "outputs": [
    {
     "name": "stdout",
     "output_type": "stream",
     "text": [
      "Sequence: A B E, Score: -0.0\n",
      "Sequence: A D L, Score: -2.00273646800278\n",
      "Sequence: A C J, Score: -2.0225193653121987\n",
      "Sequence: A B F, Score: -5.9557109983521475\n"
     ]
    }
   ],
   "source": [
    "beam = stochastic_beam_search(root, k=4, steps=2, temperature=0.5)\n",
    "for  _, score, sequence in beam:\n",
    "    print(f\"Sequence: {' '.join(sequence)}, Score: {score}\")"
   ]
  },
  {
   "cell_type": "code",
   "execution_count": 302,
   "metadata": {},
   "outputs": [],
   "source": [
    "root1 = Node('|', 1.0)\n",
    "\n",
    "B = Node('today', 0.6)\n",
    "C = Node('yesterday', 0.2)\n",
    "D = Node('tomorrow', 0.1)\n",
    "E = Node('tmr', 0.1)\n",
    "\n",
    "root1.add_child(B)\n",
    "root1.add_child(C)\n",
    "root1.add_child(D)\n",
    "\n",
    "F = Node('am', 0.05)\n",
    "G = Node('is', 0.35)\n",
    "H = Node('are', 0.15)\n",
    "I = Node('was', 0.15)\n",
    "J = Node('were', 0.05)\n",
    "K = Node('do', 0.1)\n",
    "L = Node('will be', 0.15)\n",
    "\n",
    "M = Node('monday', 0.1)\n",
    "N = Node('tuesday', 0.2)\n",
    "O = Node('wednesday', 0.1)\n",
    "P = Node('thursday', 0.2)\n",
    "Q = Node('friday', 0.1)\n",
    "R = Node('saturday', 0.2)\n",
    "S = Node('sunday', 0.1)\n",
    "\n",
    "for i in [M, N, O, P, Q, R, S]:\n",
    "    i.add_child(Node('. |', 0.4))\n",
    "    i.add_child(Node('? |', 0.3))\n",
    "    i.add_child(Node('! |', 0.3))\n",
    "\n",
    "for i in [M, N, O, P, Q, R, S]:\n",
    "    for j in [F, G, H, I, J, K, L]:\n",
    "        j.add_child(i)\n",
    "\n",
    "for i in [F, G, H, I, J, K, L]:\n",
    "    for j in [B, C, D]:\n",
    "        j.add_child(i)\n"
   ]
  },
  {
   "cell_type": "code",
   "execution_count": 307,
   "metadata": {},
   "outputs": [
    {
     "name": "stdout",
     "output_type": "stream",
     "text": [
      "Sequence: | tomorrow is saturday ! |, Score: -0.0\n",
      "Sequence: | today is wednesday . |, Score: -0.9968667098974788\n",
      "Sequence: | yesterday do thursday . |, Score: -1.6173052867977677\n",
      "Sequence: | tomorrow is saturday . |, Score: -1.8563835038826522\n"
     ]
    }
   ],
   "source": [
    "beam = stochastic_beam_search(root1, k=4, steps=4, temperature=0.6)\n",
    "for  _, score, sequence in beam:\n",
    "    print(f\"Sequence: {' '.join(sequence)}, Score: {score}\")"
   ]
  },
  {
   "cell_type": "code",
   "execution_count": null,
   "metadata": {},
   "outputs": [],
   "source": []
  },
  {
   "cell_type": "code",
   "execution_count": null,
   "metadata": {},
   "outputs": [],
   "source": []
  }
 ],
 "metadata": {
  "kernelspec": {
   "display_name": "base",
   "language": "python",
   "name": "python3"
  },
  "language_info": {
   "codemirror_mode": {
    "name": "ipython",
    "version": 3
   },
   "file_extension": ".py",
   "mimetype": "text/x-python",
   "name": "python",
   "nbconvert_exporter": "python",
   "pygments_lexer": "ipython3",
   "version": "3.8.3"
  },
  "orig_nbformat": 4
 },
 "nbformat": 4,
 "nbformat_minor": 2
}
