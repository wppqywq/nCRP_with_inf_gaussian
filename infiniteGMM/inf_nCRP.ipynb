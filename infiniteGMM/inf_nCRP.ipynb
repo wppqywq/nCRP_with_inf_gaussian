{
 "cells": [
  {
   "cell_type": "code",
   "execution_count": 1,
   "metadata": {},
   "outputs": [
    {
     "data": {
      "image/png": "[encoded data removed]",
      "text/plain": [
       "<Figure size 432x288 with 1 Axes>"
      ]
     },
     "metadata": {
      "needs_background": "light"
     },
     "output_type": "display_data"
    }
   ],
   "source": [
    "import numpy as np\n",
    "import arviz as az\n",
    "import matplotlib.pyplot as plt\n",
    "#import numpy as np\n",
    "import pandas as pd\n",
    "import pymc3 as pm\n",
    "import theano.tensor as tt\n",
    "from sampler import *\n",
    "import pprint\n",
    "from scipy.special import gammaln\n",
    "\n",
    "# Generate test data.\n",
    "y = np.concatenate([np.random.normal(-20, 1, 500),\n",
    "                    np.random.normal(0, 1, 3000),\n",
    "                    np.random.normal(20, 1, 1000)]).reshape(-1, 1)\n",
    "mu_y = np.mean(y)\n",
    "var_y = np.var(y)\n",
    "nCustomers = len(y)\n",
    "\n",
    "c = np.array([0]*500 + [1]*3000 + [2]*1000)\n",
    "n = len(c)\n",
    "plt.hist(y, bins=50)\n",
    "plt.show()\n"
   ]
  },
  {
   "cell_type": "code",
   "execution_count": 2,
   "metadata": {},
   "outputs": [],
   "source": [
    "k = 0 "
   ]
  },
  {
   "cell_type": "code",
   "execution_count": 3,
   "metadata": {},
   "outputs": [],
   "source": [
    "def nCRP(alpha, gamma, nCustomers, assignments, tables):\n",
    "    for i in range(len(assignments), nCustomers):\n",
    "        # Probability of joining existing tables\n",
    "        table_probs = [len(table) / (i + alpha) for table in tables]\n",
    "\n",
    "        # Probability of starting a new table\n",
    "        table_probs.append(alpha / (i + alpha))\n",
    "\n",
    "        # Sample table assignment\n",
    "        table = np.random.choice(len(tables) + 1, p=table_probs)\n",
    "\n",
    "        if table == len(tables):\n",
    "            # Start a new table\n",
    "            tables.append([i])\n",
    "            # Start a new assignment\n",
    "            assignments.append([i])\n",
    "        else:\n",
    "            # Assign to an existing table\n",
    "            tables[table].append(i)\n",
    "            # Assign to an existing assignment\n",
    "            assignments[table].append(i)\n",
    "\n",
    "        if len(assignments[table]) > 1:\n",
    "            # Recursively assign to lower level restaurants\n",
    "            lower_assignments, lower_tables = nCRP(gamma, gamma, len(assignments[table]), assignments[table], tables[table])\n",
    "            assignments[table] = lower_assignments\n",
    "            tables[table] = lower_tables\n",
    "\n",
    "    return assignments, tables\n"
   ]
  },
  {
   "cell_type": "code",
   "execution_count": 4,
   "metadata": {},
   "outputs": [],
   "source": [
    "def cSampler (c, y, mu, s, alpha, lambda_, r, beta, omega, mu_prior, precision_prior, **kwargs):\n",
    "    global k\n",
    "    s_, mu_ = np.array(s), np.array(mu)\n",
    "    n = len(c)\n",
    "    nij = (n - np.array([c == j for j in range(k)])).T\n",
    "    delta1 = (np.repeat(y, k, axis=1) - mu) ** 2\n",
    "    delta1[np.isnan(delta1)] = 0\n",
    "    probs1 = (nij / (n - 1 + alpha)) * (np.sqrt(s_/(2*np.pi)) * np.exp(-s_ * delta1 / 2))\n",
    "\n",
    "    # Probabilities for the unrepresented components\n",
    "    unrepresentedMu = np.random.normal(loc=mu_prior['mean'], scale=np.sqrt(1/mu_prior['precision']))\n",
    "    unrepresentedPrecision = np.random.gamma(precision_prior['shape'], 1/precision_prior['scale'])\n",
    "    delta2 = (y - unrepresentedMu) ** 2  \n",
    "    delta2[np.isnan(delta2)] = 0\n",
    "    likelihood = np.sqrt(unrepresentedPrecision) * np.exp(-unrepresentedPrecision * delta2 / 2) \n",
    "    probs2 = (alpha / (n - 1 + alpha)) * likelihood\n",
    "\n",
    "    # Probabilities of the existing components concatenated with probability\n",
    "    # for all the other components put together.\n",
    "    probs = np.concatenate((probs1, probs2), axis=1)\n",
    "    probs = probs / np.sum(probs, axis=1, keepdims=True)\n",
    "    probs[np.isnan(probs)] = 0\n",
    "\n",
    "    # New Components sampled using those probabilities\n",
    "    newC = np.array([np.argmax(rng.multinomial(1, pvals=pvals)) for pvals in probs])\n",
    "    new_nj = np.array([np.sum(c == j) for j in range(k)])\n",
    "\n",
    "    # Time to remove all those components who have no \n",
    "    # data point associated with them anymore!\n",
    "    notClassLabels = np.array(range(k))[new_nj == 0]\n",
    "    for label in notClassLabels : \n",
    "        newC[newC == label] = -1\n",
    "\n",
    "    # Re-index the remaining component labels.\n",
    "    classLabels = np.array(range(k))[new_nj > 0]\n",
    "    mu.clear()\n",
    "    mu.extend(mu_[new_nj > 0].tolist())\n",
    "    s.clear()\n",
    "    s.extend(s_[new_nj > 0].tolist())\n",
    "    newK = sum(new_nj > 0)\n",
    "    for i, label in enumerate(classLabels) :\n",
    "        newC[newC == label] = i\n",
    "\n",
    "    # If any data point is assigned one of the \n",
    "    # unrepresented classes, initialize a new class\n",
    "    # with parameters mean and precision. \n",
    "    if sum(newC == k) > 0 : \n",
    "        newC[newC == k] = newK\n",
    "        mu.append(unrepresentedMu)\n",
    "        s.append(unrepresentedPrecision)\n",
    "        k = newK + 1\n",
    "    return newC\n"
   ]
  },
  {
   "cell_type": "code",
   "execution_count": 5,
   "metadata": {},
   "outputs": [],
   "source": [
    "\n",
    "def meanSampler(assignments, y, s, lambda_, r, **kwargs):\n",
    "    n = np.array([np.sum(assignments == j) for j in range(k)])\n",
    "    y_sum = np.array([np.sum(y[assignments == j]) for j in range(k)])    \n",
    "    ns = n*s\n",
    "    mean = (y_sum * ns + lambda_ * r) / (ns + r)\n",
    "    var = 1 / (ns + r)\n",
    "    sample = rng.randn(k)\n",
    "    return (mean + np.sqrt(var) * sample).tolist()\n",
    "\n",
    "def precisionSampler(assignments, y, mu, beta, omega, **kwargs):\n",
    "    n = np.array([np.sum(assignments == j) for j in range(k)])\n",
    "    deltas = np.array([np.sum((y[assignments == j] - mu_j) ** 2) for j, mu_j in enumerate(mu)])\n",
    "    shape = beta + n\n",
    "    mean = ((deltas + omega * beta) / shape) ** (-1)\n",
    "    scale = mean / shape\n",
    "    return rng.gamma(shape, scale).tolist()"
   ]
  },
  {
   "cell_type": "code",
   "execution_count": 6,
   "metadata": {},
   "outputs": [],
   "source": [
    "\n",
    "def lambdaSampler(assignments, mu, mu_y, var_y, r, **kwargs):\n",
    "    if len(assignments)==0 or len(assignments[0])==0:\n",
    "        return rng.randn() + mu_y\n",
    "    current_means = [mu[j[-1]] for j in assignments]\n",
    "    mean = (mu_y * 1 / var_y + r * np.sum(current_means)) / (1 / var_y + len(assignments) * r)\n",
    "    var = 1 / (1 / var_y + len(assignments) * r)\n",
    "    return mean + np.sqrt(var) * rng.randn()\n",
    "\n",
    "def rSampler(assignments, mu, mu_y, var_y, lambda_, **kwargs):\n",
    "    if len(assignments)==0 or len(assignments[0])==0:\n",
    "        return 1.0\n",
    "    current_means = [mu[j[-1]] for j in assignments]\n",
    "    shape = len(assignments) + 1\n",
    "    mean = ((1 / shape) * (var_y + np.sum((np.array(current_means) - lambda_) ** 2))) ** -1\n",
    "    scale = mean / shape\n",
    "    return rng.gamma(shape, scale)\n",
    "\n",
    "def omegaSampler(s, var_y, beta, **kwargs):\n",
    "    shape = len(s) * beta + 1\n",
    "    mean = ((1 / shape) * (var_y + beta * np.sum(s))) ** -1\n",
    "    scale = mean / shape\n",
    "    return rng.gamma(shape, scale)\n",
    "\n",
    "def betaSampler (s, omega, **kwargs) :\n",
    "    s_ = np.array(s)\n",
    "    def logU (y) :\n",
    "        if k == 0 : \n",
    "            return y + (-3/2) * (y - math.log(2)) - (1/2) * torch.exp(-y)\n",
    "        beta = torch.exp(y)\n",
    "        t1 = (-k * torch.lgamma(beta/2))\n",
    "        t2 = (-1/(2*beta))\n",
    "        t3 = ((k*beta-3)/2)*(y - math.log(2))\n",
    "        t4 = (beta/2)*np.sum(np.log(s_*omega) - s_*omega)\n",
    "        return y + t1 + t2 + t3 + t4\n",
    "    sample = adaptiveRejectionSampling(logU, 1, (-math.inf, math.inf)).pop()\n",
    "    return np.exp(float(sample))\n",
    "\n",
    "def alphaSampler (c, **kwargs) :\n",
    "    n = len(c)\n",
    "    def logU (y) :\n",
    "        alpha = torch.exp(y)\n",
    "        t1 = y * (k - (3/2))\n",
    "        t2 = -1/(2 * alpha)\n",
    "        t3 = torch.lgamma(alpha)\n",
    "        t4 = -torch.lgamma(n + alpha)\n",
    "        return y + t1 + t2 + t3 + t4\n",
    "    #sample = adaptiveRejectionSampling(logU, 1, (-math.inf, math.inf)).pop()\n",
    "    sample = adaptiveRejectionSampling(logU, 1, (-math.inf, math.inf)).pop()\n",
    "    return np.exp(float(sample))\n"
   ]
  },
  {
   "cell_type": "code",
   "execution_count": 7,
   "metadata": {},
   "outputs": [
    {
     "data": {
      "text/plain": [
       "'def metropolisHastingsSampler(logP, proposalSigma, nSamples):\\n    samples = []\\n    currentSample = 0.1  # Initial sample\\n    for _ in range(nSamples):\\n        proposedSample = currentSample + np.random.normal(0, proposalSigma)\\n        logAcceptanceRatio = logP(proposedSample) - logP(currentSample)\\n        if np.log(np.random.uniform()) < logAcceptanceRatio:\\n            currentSample = proposedSample\\n        samples.append(currentSample)\\n    return samples\\n\\ndef betaSampler(s, omega, **kwargs):\\n    proposalSigma = .1\\n    nSamples = 100\\n    def logP(beta):\\n        # Log-probability of beta distribution\\n        if k == 0:\\n            return (-3/2) * (beta - math.log(2)) - (1/2) * math.exp(-beta)\\n        return (-k * math.lgamma(beta/2)) + (-1/(2*beta)) + ((k*beta-3)/2)*(beta - math.log(2)) + (beta/2)*np.sum(np.log(s*omega) - s*omega)\\n\\n    samples = metropolisHastingsSampler(logP, proposalSigma, nSamples)\\n    return np.exp(samples[-1])\\n\\ndef alphaSampler(c, s, **kwargs):\\n    proposalSigma = .1\\n    nSamples = 100\\n\\n    n = len(c)\\n    def logP(alpha):\\n        # Log-probability of alpha distribution\\n        return alpha * (k - (3/2)) - (1/(2*alpha)) + math.lgamma(alpha) - math.lgamma(n + alpha)\\n\\n\\n    samples = metropolisHastingsSampler(logP, proposalSigma, nSamples)\\n    return np.exp(samples[-1])\\n'"
      ]
     },
     "execution_count": 7,
     "metadata": {},
     "output_type": "execute_result"
    }
   ],
   "source": [
    "'''def metropolisHastingsSampler(logP, proposalSigma, nSamples):\n",
    "    samples = []\n",
    "    currentSample = 0.1  # Initial sample\n",
    "    for _ in range(nSamples):\n",
    "        proposedSample = currentSample + np.random.normal(0, proposalSigma)\n",
    "        logAcceptanceRatio = logP(proposedSample) - logP(currentSample)\n",
    "        if np.log(np.random.uniform()) < logAcceptanceRatio:\n",
    "            currentSample = proposedSample\n",
    "        samples.append(currentSample)\n",
    "    return samples\n",
    "\n",
    "def betaSampler(s, omega, **kwargs):\n",
    "    proposalSigma = .1\n",
    "    nSamples = 100\n",
    "    def logP(beta):\n",
    "        # Log-probability of beta distribution\n",
    "        if k == 0:\n",
    "            return (-3/2) * (beta - math.log(2)) - (1/2) * math.exp(-beta)\n",
    "        return (-k * math.lgamma(beta/2)) + (-1/(2*beta)) + ((k*beta-3)/2)*(beta - math.log(2)) + (beta/2)*np.sum(np.log(s*omega) - s*omega)\n",
    "\n",
    "    samples = metropolisHastingsSampler(logP, proposalSigma, nSamples)\n",
    "    return np.exp(samples[-1])\n",
    "\n",
    "def alphaSampler(c, s, **kwargs):\n",
    "    proposalSigma = .1\n",
    "    nSamples = 100\n",
    "\n",
    "    n = len(c)\n",
    "    def logP(alpha):\n",
    "        # Log-probability of alpha distribution\n",
    "        return alpha * (k - (3/2)) - (1/(2*alpha)) + math.lgamma(alpha) - math.lgamma(n + alpha)\n",
    "\n",
    "\n",
    "    samples = metropolisHastingsSampler(logP, proposalSigma, nSamples)\n",
    "    return np.exp(samples[-1])\n",
    "'''"
   ]
  },
  {
   "cell_type": "code",
   "execution_count": 8,
   "metadata": {},
   "outputs": [
    {
     "data": {
      "text/plain": [
       "'import scipy.stats as stats\\nfrom scipy.special import gamma\\nimport random\\n\\ndef alphaSampler(c, gamma, **kwargs):\\n    n = len(c)\\n    alpha = 1 + gamma / n\\n    return random.gammavariate(alpha, 1)\\n\\ndef betaSampler(s, omega, **kwargs):\\n    k = len(s)\\n    beta = 2 * k + 2\\n    alpha = 1 / omega\\n    rate = alpha * np.sum(s)\\n    return stats.gamma.rvs(beta, scale=1 / rate)'"
      ]
     },
     "execution_count": 8,
     "metadata": {},
     "output_type": "execute_result"
    }
   ],
   "source": [
    "'''import scipy.stats as stats\n",
    "from scipy.special import gamma\n",
    "import random\n",
    "\n",
    "def alphaSampler(c, gamma, **kwargs):\n",
    "    n = len(c)\n",
    "    alpha = 1 + gamma / n\n",
    "    return random.gammavariate(alpha, 1)\n",
    "\n",
    "def betaSampler(s, omega, **kwargs):\n",
    "    k = len(s)\n",
    "    beta = 2 * k + 2\n",
    "    alpha = 1 / omega\n",
    "    rate = alpha * np.sum(s)\n",
    "    return stats.gamma.rvs(beta, scale=1 / rate)'''"
   ]
  },
  {
   "cell_type": "code",
   "execution_count": 9,
   "metadata": {},
   "outputs": [],
   "source": [
    "mu_prior = {'mean': 0, 'precision': 1}\n",
    "precision_prior = {'shape': 1, 'scale': 1}\n"
   ]
  },
  {
   "cell_type": "code",
   "execution_count": 10,
   "metadata": {},
   "outputs": [],
   "source": [
    "parameters = {\n",
    "    'alpha': 1,\n",
    "    'mu': [],\n",
    "    's': [],\n",
    "    'lambda_': mu_y,\n",
    "    'r': 1, \n",
    "    'beta': var_y,\n",
    "    'omega': var_y,\n",
    "    'c': np.ones(n) * -1\n",
    "}\n",
    "\n",
    "samplers = {\n",
    "    'alpha': alphaSampler,\n",
    "    'c': cSampler,\n",
    "    'mu': meanSampler,\n",
    "    's': precisionSampler,\n",
    "    'lambda_': lambdaSampler,\n",
    "    'r': rSampler, \n",
    "    'beta': betaSampler,\n",
    "    'omega': omegaSampler\n",
    "}\n",
    "\n",
    "others = {\n",
    "    'mu_y': mu_y,\n",
    "    'var_y': var_y,\n",
    "    'y': y,\n",
    "    'gamma': 1.0,\n",
    "    'mu_prior': mu_prior,\n",
    "    'precision_prior': precision_prior\n",
    "}\n"
   ]
  },
  {
   "cell_type": "code",
   "execution_count": 11,
   "metadata": {},
   "outputs": [
    {
     "data": {
      "text/plain": [
       "'def GibbsSampler(num_iter, assignments, y, mu, s, alpha, lambda_, r, beta, omega, mu_prior, precision_prior, **kwargs):\\n    for iter in range(num_iter):\\n        assignments = cSampler(assignments, y, mu, s, alpha, lambda_, r, beta, omega, mu_prior, precision_prior)\\n        mu = meanSampler(assignments, y, s, lambda_, r)\\n        s = precisionSampler(assignments, y, mu, beta, omega)\\n        lambda_ = lambdaSampler(assignments, mu, mu_y, var_y, r)\\n        r = rSampler(assignments, mu, mu_y, var_y, lambda_)\\n        omega = omegaSampler(s, var_y, beta)\\n        beta = betaSampler(s, omega)\\n        alpha = alphaSampler(assignments)\\n    return assignments, y, mu, s, alpha, lambda_, r, beta, omega'"
      ]
     },
     "execution_count": 11,
     "metadata": {},
     "output_type": "execute_result"
    }
   ],
   "source": [
    "'''def GibbsSampler(num_iter, assignments, y, mu, s, alpha, lambda_, r, beta, omega, mu_prior, precision_prior, **kwargs):\n",
    "    for iter in range(num_iter):\n",
    "        assignments = cSampler(assignments, y, mu, s, alpha, lambda_, r, beta, omega, mu_prior, precision_prior)\n",
    "        mu = meanSampler(assignments, y, s, lambda_, r)\n",
    "        s = precisionSampler(assignments, y, mu, beta, omega)\n",
    "        lambda_ = lambdaSampler(assignments, mu, mu_y, var_y, r)\n",
    "        r = rSampler(assignments, mu, mu_y, var_y, lambda_)\n",
    "        omega = omegaSampler(s, var_y, beta)\n",
    "        beta = betaSampler(s, omega)\n",
    "        alpha = alphaSampler(assignments)\n",
    "    return assignments, y, mu, s, alpha, lambda_, r, beta, omega'''\n"
   ]
  },
  {
   "cell_type": "code",
   "execution_count": 12,
   "metadata": {},
   "outputs": [],
   "source": [
    "def gibbs(x, samplers, nSteps, assignments, tables, **kwargs):\n",
    "    for i in tqdm(range(nSteps)):\n",
    "        for k, v in x.items():\n",
    "            if k in samplers:\n",
    "                x[k] = samplers[k](**x, assignments=assignments, tables=tables, **kwargs)\n",
    "\n",
    "        # Update nCRP at each iteration\n",
    "        assignments, tables = nCRP(x['alpha'], kwargs['gamma'], len(y), assignments, tables)\n",
    "        \n",
    "    return x\n"
   ]
  },
  {
   "cell_type": "code",
   "execution_count": 13,
   "metadata": {},
   "outputs": [
    {
     "name": "stderr",
     "output_type": "stream",
     "text": [
      "  1%|          | 1/100 [00:00<00:17,  5.81it/s]"
     ]
    },
    {
     "name": "stderr",
     "output_type": "stream",
     "text": [
      "  8%|▊         | 8/100 [00:01<00:13,  6.78it/s]/var/folders/_2/d0xmq0nn39z8s3ccvbbr049h0000gn/T/ipykernel_73658/1078767866.py:21: RuntimeWarning: invalid value encountered in true_divide\n",
      "  probs = probs / np.sum(probs, axis=1, keepdims=True)\n",
      "100%|██████████| 100/100 [00:14<00:00,  6.83it/s]\n"
     ]
    }
   ],
   "source": [
    "assignments, tables = [[]]*nCustomers, [[]]*nCustomers\n",
    "\n",
    "inferredParameters = gibbs(parameters, samplers, 100, assignments, tables, **others)\n"
   ]
  },
  {
   "cell_type": "code",
   "execution_count": 14,
   "metadata": {},
   "outputs": [
    {
     "name": "stdout",
     "output_type": "stream",
     "text": [
      "{ 'alpha': 0.600667197467481,\n",
      "  'beta': 15517.34200080539,\n",
      "  'c': array([4, 4, 4, ..., 4, 4, 4]),\n",
      "  'lambda_': 2.2160681966894646,\n",
      "  'mu': [ 0.7927726701379959,\n",
      "          1.8548170116871836,\n",
      "          1.1709604967767924,\n",
      "          1.0761900360662855,\n",
      "          0.9081563502837218],\n",
      "  'omega': 0.004877560896221558,\n",
      "  'r': 1.0,\n",
      "  's': [ 206.26371878566258,\n",
      "         207.41761631329527,\n",
      "         205.29294501199692,\n",
      "         205.55886194133424,\n",
      "         0.9212510057343364]}\n"
     ]
    }
   ],
   "source": [
    "\n",
    "pprint.PrettyPrinter(indent=2).pprint(inferredParameters)"
   ]
  },
  {
   "cell_type": "code",
   "execution_count": 15,
   "metadata": {},
   "outputs": [
    {
     "data": {
      "image/png": "[encoded data removed]",
      "text/plain": [
       "<Figure size 576x360 with 1 Axes>"
      ]
     },
     "metadata": {
      "needs_background": "light"
     },
     "output_type": "display_data"
    }
   ],
   "source": [
    "\n",
    "c = inferredParameters['c']\n",
    "mu = inferredParameters['mu']\n",
    "s = inferredParameters['s']\n",
    "\n",
    "k = len(mu)\n",
    "\n",
    "\n",
    "plt.figure(figsize= (8, 5))\n",
    "\n",
    "for j in range(k):\n",
    "    component_data = y[c == j] \n",
    "    plt.hist(component_data, bins=20, density=True, alpha=0.5, label=f'Component {j+1}')\n",
    "\n",
    "plt.xlabel('Value')\n",
    "plt.ylabel('Density')\n",
    "plt.title('Mixture Model Component Distributions')\n",
    "#plt.legend()\n",
    "plt.show()"
   ]
  },
  {
   "cell_type": "code",
   "execution_count": 16,
   "metadata": {},
   "outputs": [
    {
     "data": {
      "text/plain": [
       "5"
      ]
     },
     "execution_count": 16,
     "metadata": {},
     "output_type": "execute_result"
    }
   ],
   "source": [
    "k"
   ]
  },
  {
   "cell_type": "code",
   "execution_count": 17,
   "metadata": {},
   "outputs": [],
   "source": [
    "def logU (y) :\n",
    "        alpha = torch.exp(y)\n",
    "        t1 = y * (k - (3/2))\n",
    "        t2 = -1/(2 * alpha)\n",
    "        t3 = torch.lgamma(alpha)\n",
    "        t4 = -torch.lgamma(n + alpha)\n",
    "        return y + t1 + t2 + t3 + t4"
   ]
  },
  {
   "cell_type": "code",
   "execution_count": null,
   "metadata": {},
   "outputs": [],
   "source": []
  }
 ],
 "metadata": {
  "kernelspec": {
   "display_name": "base",
   "language": "python",
   "name": "python3"
  },
  "language_info": {
   "codemirror_mode": {
    "name": "ipython",
    "version": 3
   },
   "file_extension": ".py",
   "mimetype": "text/x-python",
   "name": "python",
   "nbconvert_exporter": "python",
   "pygments_lexer": "ipython3",
   "version": "3.8.3"
  },
  "orig_nbformat": 4
 },
 "nbformat": 4,
 "nbformat_minor": 2
}
